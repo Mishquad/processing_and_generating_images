{
  "nbformat": 4,
  "nbformat_minor": 0,
  "metadata": {
    "colab": {
      "provenance": [],
      "gpuType": "T4"
    },
    "kernelspec": {
      "name": "python3",
      "display_name": "Python 3"
    },
    "language_info": {
      "name": "python"
    },
    "accelerator": "GPU"
  },
  "cells": [
    {
      "cell_type": "code",
      "source": [
        "from IPython.display import Image\n",
        "from PIL import Image\n",
        "\n",
        "from torch.utils.data import DataLoader, Dataset\n",
        "from torchvision import transforms\n",
        "\n",
        "from torchvision import transforms\n",
        "\n",
        "import numpy as np\n",
        "import pandas as pd\n",
        "import matplotlib.pyplot as plt\n",
        "\n",
        "import torch\n",
        "import torch.nn as nn\n",
        "import torch.nn.functional as F\n",
        "import torch.utils\n",
        "import torch.distributions\n",
        "\n",
        "import tqdm\n",
        "import os"
      ],
      "metadata": {
        "id": "-1W9U615e_sU"
      },
      "execution_count": 1,
      "outputs": []
    },
    {
      "cell_type": "code",
      "source": [
        "torch.cuda.is_available()"
      ],
      "metadata": {
        "colab": {
          "base_uri": "https://localhost:8080/"
        },
        "id": "EPb4sL7LEfuB",
        "outputId": "0bd48bf5-dc85-46d4-8536-6767a3672f8b"
      },
      "execution_count": 2,
      "outputs": [
        {
          "output_type": "execute_result",
          "data": {
            "text/plain": [
              "True"
            ]
          },
          "metadata": {},
          "execution_count": 2
        }
      ]
    },
    {
      "cell_type": "code",
      "source": [
        "import zipfile\n",
        "from google.colab import drive"
      ],
      "metadata": {
        "id": "x223ZarMdEiz"
      },
      "execution_count": 3,
      "outputs": []
    },
    {
      "cell_type": "code",
      "execution_count": 4,
      "metadata": {
        "colab": {
          "base_uri": "https://localhost:8080/"
        },
        "id": "VOvejqtNdDSj",
        "outputId": "f3ca4555-c516-4b34-dfd6-2210be7ac301"
      },
      "outputs": [
        {
          "output_type": "stream",
          "name": "stdout",
          "text": [
            "Drive already mounted at /content/drive/; to attempt to forcibly remount, call drive.mount(\"/content/drive/\", force_remount=True).\n"
          ]
        }
      ],
      "source": [
        "drive.mount('/content/drive/')"
      ]
    },
    {
      "cell_type": "code",
      "source": [
        "!ls 'drive/MyDrive/data/dataset'"
      ],
      "metadata": {
        "colab": {
          "base_uri": "https://localhost:8080/"
        },
        "id": "XEyBzmvhdTQR",
        "outputId": "347a2335-3a1b-46d5-8ccb-5a2d4458fc20"
      },
      "execution_count": 5,
      "outputs": [
        {
          "output_type": "stream",
          "name": "stdout",
          "text": [
            "proliv\ttest_proliv  train_proliv\n"
          ]
        }
      ]
    },
    {
      "cell_type": "code",
      "source": [
        "#!unzip 'drive/My Drive/dataset.zip' -d 'drive/MyDrive/data'"
      ],
      "metadata": {
        "id": "twXR6aa4daVh"
      },
      "execution_count": 6,
      "outputs": []
    },
    {
      "cell_type": "code",
      "source": [
        "device = 'cuda'"
      ],
      "metadata": {
        "id": "K1I2q6Phd6pt"
      },
      "execution_count": 7,
      "outputs": []
    },
    {
      "cell_type": "code",
      "source": [
        "\n",
        "from lightning import seed_everything\n",
        "seed_everything(seed=42, workers=True)"
      ],
      "metadata": {
        "colab": {
          "base_uri": "https://localhost:8080/"
        },
        "id": "Cdy_28TEUBKq",
        "outputId": "2ba80081-00bf-4d06-d392-681dbc5ac1e4"
      },
      "execution_count": 8,
      "outputs": [
        {
          "output_type": "stream",
          "name": "stderr",
          "text": [
            "INFO: Seed set to 42\n",
            "INFO:lightning.fabric.utilities.seed:Seed set to 42\n"
          ]
        },
        {
          "output_type": "execute_result",
          "data": {
            "text/plain": [
              "42"
            ]
          },
          "metadata": {},
          "execution_count": 8
        }
      ]
    },
    {
      "cell_type": "code",
      "source": [
        "folder_path = \"drive/MyDrive/data/dataset/train_proliv\"\n",
        "\n",
        "width_arr = 0\n",
        "height_arr = 0\n",
        "count_img = 0\n",
        "\n",
        "for file in os.listdir(folder_path):\n",
        "    if file.endswith(('.png', '.jpg', '.jpeg', '.gif')):\n",
        "        image_path = os.path.join(folder_path, file)\n",
        "        with Image.open(image_path) as img:\n",
        "            width, height = img.size\n",
        "            width_arr += width\n",
        "            height_arr += height\n",
        "            count_img += 1\n",
        "\n",
        "w = width_arr / count_img\n",
        "h = height_arr / count_img\n",
        "print(f\"Средняя ширина {w} пикселей\")\n",
        "print(f\"Средняя высота {h} пикселей\")\n",
        "\n",
        "w = int(w * 0.7)\n",
        "h = int(h * 1)\n"
      ],
      "metadata": {
        "colab": {
          "base_uri": "https://localhost:8080/"
        },
        "id": "MRUufLVZfkYD",
        "outputId": "cbf23535-d082-44b2-e5e4-12ecf17d4a0c"
      },
      "execution_count": 9,
      "outputs": [
        {
          "output_type": "stream",
          "name": "stdout",
          "text": [
            "Средняя ширина 48.2663 пикселей\n",
            "Средняя высота 27.2345 пикселей\n"
          ]
        }
      ]
    },
    {
      "cell_type": "markdown",
      "source": [
        "границы с левой и правой стороны не несут полезной информации. Округляю до width_resize = 33, height_resize = 28. Далее на изображениях посмотрим на случайных примерах, так ли это."
      ],
      "metadata": {
        "id": "GW7ZpaBPjupz"
      }
    },
    {
      "cell_type": "code",
      "source": [
        "width_resize = 33\n",
        "height_resize = 27"
      ],
      "metadata": {
        "id": "QVhAU63_kP52"
      },
      "execution_count": 10,
      "outputs": []
    },
    {
      "cell_type": "code",
      "source": [
        "#ls 'drive/MyDrive/data/dataset/test_proliv/imgs'"
      ],
      "metadata": {
        "id": "JdRYRjSWiKPa"
      },
      "execution_count": 11,
      "outputs": []
    },
    {
      "cell_type": "markdown",
      "source": [
        "Пример рандомного тренировочного изображения"
      ],
      "metadata": {
        "id": "yHdtaLj2kemE"
      }
    },
    {
      "cell_type": "code",
      "source": [
        "from matplotlib.pyplot import imshow\n",
        "%matplotlib inline\n",
        "pil_im = Image.open('drive/MyDrive/data/dataset/train_proliv/8b639c44-7d0a-412a-b2a4-fb4344e4a0fe.jpg', 'r')\n",
        "imshow(np.asarray(pil_im))"
      ],
      "metadata": {
        "colab": {
          "base_uri": "https://localhost:8080/",
          "height": 336
        },
        "id": "tO5i0ZkogB8Z",
        "outputId": "ff8b947d-8e3c-4323-d034-746b11232b4c"
      },
      "execution_count": 12,
      "outputs": [
        {
          "output_type": "execute_result",
          "data": {
            "text/plain": [
              "<matplotlib.image.AxesImage at 0x7de9889bc2e0>"
            ]
          },
          "metadata": {},
          "execution_count": 12
        },
        {
          "output_type": "display_data",
          "data": {
            "text/plain": [
              "<Figure size 640x480 with 1 Axes>"
            ],
            "image/png": "[encoded data removed]"
          },
          "metadata": {}
        }
      ]
    },
    {
      "cell_type": "markdown",
      "source": [
        "Пример рандомного тестового изображения"
      ],
      "metadata": {
        "id": "UmG8pfybjApc"
      }
    },
    {
      "cell_type": "code",
      "source": [
        "pil_im = Image.open('drive/MyDrive/data/dataset/test_proliv/imgs/f1d1856e-19ba-45e1-b771-9670d2f48be5.jpg', 'r')\n",
        "imshow(np.asarray(pil_im))"
      ],
      "metadata": {
        "colab": {
          "base_uri": "https://localhost:8080/",
          "height": 385
        },
        "id": "V84gMsWQiaJY",
        "outputId": "040f3529-acb6-4dbe-882f-b8e9236b9de5"
      },
      "execution_count": 13,
      "outputs": [
        {
          "output_type": "execute_result",
          "data": {
            "text/plain": [
              "<matplotlib.image.AxesImage at 0x7de9888e45e0>"
            ]
          },
          "metadata": {},
          "execution_count": 13
        },
        {
          "output_type": "display_data",
          "data": {
            "text/plain": [
              "<Figure size 640x480 with 1 Axes>"
            ],
            "image/png": "[encoded data removed]"
          },
          "metadata": {}
        }
      ]
    },
    {
      "cell_type": "markdown",
      "source": [
        "попробовал несколько разных аугментаций - спойлер: первая чуть лучше по кач-ву, но со второй быстрее. Подумаю, как их \"смешать\""
      ],
      "metadata": {
        "id": "OP4b2aBynZzB"
      }
    },
    {
      "cell_type": "code",
      "source": [
        "from torch.utils.data import Dataset as TorchDataset\n",
        "class Dataset_prep_1(TorchDataset):\n",
        "    mean = (0.4237, 0.5344, 0.4620)\n",
        "    std = (0.0472, 0.0526, 0.0489)\n",
        "    resize_height = 32\n",
        "    resize_width = 48\n",
        "    crop_height = 32\n",
        "    crop_width = 32\n",
        "\n",
        "    def get_sorted_file_paths(dir_path):\n",
        "        return sorted((path for path in dir_path.iterdir() if path.is_file()), key=lambda path: path.name)\n",
        "\n",
        "    def __init__(self, dataset_dir, variant):\n",
        "        self.variant = variant\n",
        "        if self.variant == 'train':\n",
        "            self.image_paths = self.get_sorted_file_paths(dataset_dir / 'train_proliv')\n",
        "        elif self.variant == 'anomaly':\n",
        "            self.image_paths = self.get_sorted_file_paths(dataset_dir / 'proliv')\n",
        "        elif self.variant == 'test':\n",
        "            self.image_paths = []\n",
        "            self.image_labels = []\n",
        "            with open(dataset_dir / 'test' / 'test_annotation.txt', 'r') as ann_file:\n",
        "                for ann in ann_file.readlines():\n",
        "                    file_name, label = ann.split()\n",
        "                    self.image_paths.append(dataset_dir / 'test_proliv' / 'imgs' / file_name)\n",
        "                    self.image_labels.append(int(label))\n",
        "\n",
        "        self.train_transforms = albumentations.Compose([\n",
        "            albumentations.Resize(height=self.resize_height, width=self.resize_width),\n",
        "            albumentations.CenterCrop(height=self.crop_height, width=self.crop_width),\n",
        "            albumentations.HorizontalFlip(),\n",
        "            albumentations.VerticalFlip(),\n",
        "            albumentations.RandomBrightnessContrast(),\n",
        "            albumentations.Normalize(mean=self.mean, std=self.std),\n",
        "            ToTensorV2()\n",
        "        ])\n",
        "\n",
        "        self.transforms = albumentations.Compose([\n",
        "            albumentations.Resize(height=self.resize_height, width=self.resize_width),\n",
        "            albumentations.CenterCrop(height=self.crop_height, width=self.crop_width),\n",
        "            albumentations.Normalize(mean=self.mean, std=self.std),\n",
        "            ToTensorV2()\n",
        "        ])\n",
        "\n",
        "    def __len__(self):\n",
        "        return len(self.image_paths)\n",
        "\n",
        "    def __getitem__(self, index):\n",
        "        pil_image = Image.open(self.image_paths[index]).convert('RGB')\n",
        "\n",
        "        if self.variant == 'train':\n",
        "            transforms = self.train_transforms\n",
        "        else:\n",
        "            transforms = self.transforms\n",
        "\n",
        "        transformed_image = transforms(image=np.array(pil_image))['image']\n",
        "\n",
        "        if self.variant != 'test':\n",
        "            return transformed_image\n",
        "        return transformed_image, self.image_labels[index]"
      ],
      "metadata": {
        "id": "jveraubQihxo"
      },
      "execution_count": 14,
      "outputs": []
    },
    {
      "cell_type": "markdown",
      "source": [
        "Вторая итерация аугментаций"
      ],
      "metadata": {
        "id": "ZpvcwrNCm9HP"
      }
    },
    {
      "cell_type": "code",
      "source": [
        "class Dataset_prep_2(Dataset):\n",
        "    def __init__(self, root_dir):\n",
        "        self.root_dir = root_dir\n",
        "        self.image_list = os.listdir(root_dir)\n",
        "\n",
        "        self.transform = transforms.Compose([\n",
        "            transforms.Grayscale(),\n",
        "            transforms.Resize((height_resize, width_resize)),\n",
        "            transforms.GaussianBlur(7, 0.5),\n",
        "            transforms.ToTensor(),\n",
        "        ])\n",
        "    def __len__(self):\n",
        "        return len(self.image_list)\n",
        "\n",
        "    def __getitem__(self, idx):\n",
        "        img_name = os.path.join(self.root_dir, self.image_list[idx])\n",
        "        image = Image.open(img_name).convert(\"RGB\")\n",
        "\n",
        "        new_width = int(image.width * 0.7)\n",
        "        left = int((image.width - new_width) / 2)\n",
        "        right = left + new_width\n",
        "        image = image.crop((left, 0, right, image.height))\n",
        "\n",
        "        blue_channel = image.split()[0]\n",
        "        gray_blue_channel = blue_channel.convert(\"L\")\n",
        "        image = self.transform(gray_blue_channel)\n",
        "\n",
        "        return image, img_name"
      ],
      "metadata": {
        "id": "UILa93DNmO_u"
      },
      "execution_count": 15,
      "outputs": []
    },
    {
      "cell_type": "markdown",
      "source": [
        "Энкодер"
      ],
      "metadata": {
        "id": "n9CaRzaAm6Of"
      }
    },
    {
      "cell_type": "code",
      "source": [
        "class VariationalEncoder(nn.Module):\n",
        "    def __init__(self, latent_dims):\n",
        "        super(VariationalEncoder, self).__init__()\n",
        "        self.linear1 = nn.Linear(height_resize * width_resize, 512)\n",
        "        self.linear2 = nn.Linear(512, latent_dims)\n",
        "        self.linear3 = nn.Linear(512, latent_dims)\n",
        "\n",
        "        self.N = torch.distributions.Normal(0, 1)\n",
        "        self.N.loc = self.N.loc.to(device)\n",
        "        self.N.scale = self.N.scale.to(device)\n",
        "        self.kl = 0\n",
        "\n",
        "    def forward(self, x):\n",
        "        x = torch.flatten(x, start_dim=1)\n",
        "        x = F.relu(self.linear1(x))\n",
        "        mu =  self.linear2(x)\n",
        "        sigma = torch.exp(self.linear3(x))\n",
        "        z = mu + sigma*self.N.sample(mu.shape)\n",
        "        self.kl = (sigma**2 + mu**2 - torch.log(sigma) - 1/2).sum()\n",
        "        return z\n",
        "\n",
        "class Decoder(nn.Module):\n",
        "    def __init__(self, latent_dims):\n",
        "        super(Decoder, self).__init__()\n",
        "        self.linear1 = nn.Linear(latent_dims, 512)\n",
        "        self.linear2 = nn.Linear(512, height_resize * width_resize)\n",
        "\n",
        "    def forward(self, z):\n",
        "        z = F.relu(self.linear1(z))\n",
        "        z = torch.sigmoid(self.linear2(z))\n",
        "        return z.reshape((-1, 1, height_resize, width_resize))\n",
        "\n",
        "class VariationalAutoencoder(nn.Module):\n",
        "    def __init__(self, latent_dims):\n",
        "        super(VariationalAutoencoder, self).__init__()\n",
        "        self.encoder = VariationalEncoder(latent_dims)\n",
        "        self.decoder = Decoder(latent_dims)\n",
        "\n",
        "    def forward(self, x):\n",
        "        z = self.encoder(x)\n",
        "        return self.decoder(z)\n",
        "\n",
        "def train(autoencoder, data, epochs=30):\n",
        "    opt = torch.optim.Adam(autoencoder.parameters())\n",
        "    for epoch in tqdm.tqdm(range(epochs)):\n",
        "        for img, img_name in data:\n",
        "            x = img.to(device)\n",
        "            opt.zero_grad()\n",
        "            x_hat = autoencoder(x)\n",
        "            loss = ((x - x_hat)**2).sum() + autoencoder.encoder.kl\n",
        "            loss.backward()\n",
        "            opt.step()\n",
        "    return autoencoder\n",
        "\n",
        "latent_dims = 2\n",
        "autoencoder = VariationalAutoencoder(latent_dims).to(device)"
      ],
      "metadata": {
        "id": "tpRQzBclmySA"
      },
      "execution_count": 16,
      "outputs": []
    },
    {
      "cell_type": "code",
      "source": [
        "train_data_path = \"drive/MyDrive/data/dataset/train_proliv\"\n",
        "train_dataset = Dataset_prep_2(root_dir=train_data_path)\n",
        "train_dataloader = torch.utils.data.DataLoader(\n",
        "        dataset=train_dataset,\n",
        "        batch_size=10000,\n",
        "        shuffle=True)"
      ],
      "metadata": {
        "id": "qDNVhrlkoHYy"
      },
      "execution_count": 17,
      "outputs": []
    },
    {
      "cell_type": "code",
      "source": [
        "model_2nd_prep = train(autoencoder, train_dataloader, epochs=40).to(device)\n",
        "model_2nd_prep.eval()"
      ],
      "metadata": {
        "colab": {
          "base_uri": "https://localhost:8080/"
        },
        "id": "_0K6tN1GoUDF",
        "outputId": "73129b5f-0814-4b63-af6c-6c1239270102"
      },
      "execution_count": 18,
      "outputs": [
        {
          "output_type": "stream",
          "name": "stderr",
          "text": [
            "100%|██████████| 40/40 [14:42<00:00, 22.07s/it]\n"
          ]
        },
        {
          "output_type": "execute_result",
          "data": {
            "text/plain": [
              "VariationalAutoencoder(\n",
              "  (encoder): VariationalEncoder(\n",
              "    (linear1): Linear(in_features=891, out_features=512, bias=True)\n",
              "    (linear2): Linear(in_features=512, out_features=2, bias=True)\n",
              "    (linear3): Linear(in_features=512, out_features=2, bias=True)\n",
              "  )\n",
              "  (decoder): Decoder(\n",
              "    (linear1): Linear(in_features=2, out_features=512, bias=True)\n",
              "    (linear2): Linear(in_features=512, out_features=891, bias=True)\n",
              "  )\n",
              ")"
            ]
          },
          "metadata": {},
          "execution_count": 18
        }
      ]
    },
    {
      "cell_type": "markdown",
      "source": [
        "Посмотрим на преобразованные изображения"
      ],
      "metadata": {
        "id": "aEKJFIr0LwvA"
      }
    },
    {
      "cell_type": "code",
      "source": [
        "\n",
        "with torch.no_grad():\n",
        "    for img, img_name in train_dataloader:\n",
        "        original_imgs = img.to(device)\n",
        "\n",
        "        restored_imgs = model_2nd_prep(original_imgs)\n",
        "\n",
        "\n",
        "        for i in range(3):\n",
        "            plt.figure(figsize=(12, 6))\n",
        "\n",
        "            #здесь исходники\n",
        "            plt.subplot(1, 2, 1)\n",
        "            plt.imshow(original_imgs[i][0].cpu().numpy(), cmap='gray')\n",
        "            plt.title('Исходное изображение')\n",
        "            plt.axis('off')\n",
        "\n",
        "            plt.text(10, h+5, img_name[i].split('/')[-1], color='black', fontsize=15)\n",
        "\n",
        "            #здесь восстановленные\n",
        "            plt.subplot(1, 2, 2)\n",
        "            plt.imshow(restored_imgs[i][0].cpu().numpy(), cmap='gray')\n",
        "            plt.title('Восстановленное изображение')\n",
        "            plt.axis('off')\n",
        "\n",
        "            plt.show()\n",
        "\n",
        "        break"
      ],
      "metadata": {
        "colab": {
          "base_uri": "https://localhost:8080/",
          "height": 1000
        },
        "id": "vPYybRcYGLXS",
        "outputId": "13898f19-f069-4fc1-a6d3-6a989bc95ccb"
      },
      "execution_count": 19,
      "outputs": [
        {
          "output_type": "display_data",
          "data": {
            "text/plain": [
              "<Figure size 1200x600 with 2 Axes>"
            ],
            "image/png": "[encoded data removed]"
          },
          "metadata": {}
        },
        {
          "output_type": "display_data",
          "data": {
            "text/plain": [
              "<Figure size 1200x600 with 2 Axes>"
            ],
            "image/png": "[encoded data removed]"
          },
          "metadata": {}
        },
        {
          "output_type": "display_data",
          "data": {
            "text/plain": [
              "<Figure size 1200x600 with 2 Axes>"
            ],
            "image/png": "[encoded data removed]"
          },
          "metadata": {}
        }
      ]
    },
    {
      "cell_type": "markdown",
      "source": [
        "Согласно предложенного плана решения, нужно выбрать вручную пороговое значение MSE. Кажется, что также надо обратить внимание на изображения с объектами, которые загорожены иным предметом"
      ],
      "metadata": {
        "id": "W12-DysSMI19"
      }
    },
    {
      "cell_type": "code",
      "source": [
        "def mse_impl(image1, image2):\n",
        "    mse_calc = F.mse_loss(image1, image2, reduction='mean')\n",
        "    return mse_calc.item()"
      ],
      "metadata": {
        "id": "Iy_7K6iYMaHU"
      },
      "execution_count": 20,
      "outputs": []
    },
    {
      "cell_type": "code",
      "source": [
        "images_mse_arr = []\n",
        "\n",
        "with torch.no_grad():\n",
        "    for img, img_name in train_dataloader:\n",
        "        original_imgs = img.to(device)\n",
        "        restored_imgs = model_2nd_prep(original_imgs)\n",
        "\n",
        "        for i in range(len(original_imgs)):\n",
        "            images_mse_arr.append(mse_impl(original_imgs[i], restored_imgs[i]))"
      ],
      "metadata": {
        "id": "v9u87IljLBxs"
      },
      "execution_count": 22,
      "outputs": []
    },
    {
      "cell_type": "code",
      "source": [
        "mse_anomaly = max(images_mse_arr) * 0.22\n",
        "mse_remove = max(images_mse_arr) * 0.9"
      ],
      "metadata": {
        "id": "2VTusMoFMVe0"
      },
      "execution_count": 64,
      "outputs": []
    },
    {
      "cell_type": "code",
      "source": [
        "print(mse_anomaly)\n",
        "print(mse_remove)"
      ],
      "metadata": {
        "colab": {
          "base_uri": "https://localhost:8080/"
        },
        "id": "rBRnzLy2M-5L",
        "outputId": "8de38ae4-2491-43ff-8d29-0cb7d2706346"
      },
      "execution_count": 65,
      "outputs": [
        {
          "output_type": "stream",
          "name": "stdout",
          "text": [
            "0.0033691088296473027\n",
            "0.013629576629027725\n"
          ]
        }
      ]
    },
    {
      "cell_type": "code",
      "source": [
        "class TestTransform(Dataset):\n",
        "    def __init__(self, root_dir, annotation_file):\n",
        "        self.images_dir = os.path.join(root_dir, \"imgs\")\n",
        "        self.annotations = pd.read_csv(os.path.join(root_dir, annotation_file), delimiter=' ', header=None, names=['filename', 'label'])\n",
        "        self.image_list = os.listdir(self.images_dir)\n",
        "\n",
        "        self.transform = transforms.Compose([\n",
        "            transforms.Grayscale(),\n",
        "            transforms.Resize((height_resize, width_resize)),\n",
        "            transforms.GaussianBlur(7, 0.5),\n",
        "            transforms.ToTensor(),\n",
        "        ])\n",
        "    def __len__(self):\n",
        "        return len(self.image_list)\n",
        "\n",
        "    def __getitem__(self, idx):\n",
        "        img_name = os.path.join(self.images_dir, self.image_list[idx])\n",
        "        image = Image.open(img_name).convert(\"RGB\")\n",
        "\n",
        "        new_width = int(image.width * 0.7)\n",
        "        left = int((image.width - new_width) / 2)\n",
        "        right = left + new_width\n",
        "        image = image.crop((left, 0, right, image.height))\n",
        "\n",
        "        blue_channel = image.split()[0]\n",
        "        gray_blue_channel = blue_channel.convert(\"L\")\n",
        "        image = self.transform(gray_blue_channel)\n",
        "\n",
        "        label = self.annotations[self.annotations[\"filename\"].isin([self.image_list[idx]])][\"label\"].iloc[0]\n",
        "        return image, img_name, label"
      ],
      "metadata": {
        "id": "P2xERkT_N96i"
      },
      "execution_count": 66,
      "outputs": []
    },
    {
      "cell_type": "code",
      "source": [
        "test_data_path = \"drive/MyDrive/data/dataset/test_proliv\"\n",
        "annotation_file = \"test_annotation.txt\"\n",
        "test_dataset = TestTransform(root_dir=test_data_path, annotation_file=annotation_file)\n",
        "test_dataloader = torch.utils.data.DataLoader(dataset=test_dataset, batch_size=10000)"
      ],
      "metadata": {
        "id": "h96w6bIJO1KS"
      },
      "execution_count": 67,
      "outputs": []
    },
    {
      "cell_type": "code",
      "source": [
        "imgs_mse_anom = []\n",
        "imgs_mse_norm = []\n",
        "\n",
        "with torch.no_grad():\n",
        "    for img, img_name, labels in test_dataloader:\n",
        "        original_images = img.to(device)\n",
        "        reconstructed_images = model_2nd_prep(original_images)\n",
        "\n",
        "        for i in range(len(original_images)):\n",
        "            mse = mse_impl(original_images[i], reconstructed_images[i])\n",
        "\n",
        "            if (labels[i] == 1):\n",
        "                imgs_mse_anom.append(mse)\n",
        "            else:\n",
        "                 imgs_mse_norm.append(mse)"
      ],
      "metadata": {
        "id": "Cgip4smJNBZP"
      },
      "execution_count": 68,
      "outputs": []
    },
    {
      "cell_type": "code",
      "source": [
        "#!ls \"drive/MyDrive/data/dataset/test_proliv\""
      ],
      "metadata": {
        "id": "_TOcdEfxOM-A"
      },
      "execution_count": 69,
      "outputs": []
    },
    {
      "cell_type": "code",
      "source": [
        "labels_tar = []\n",
        "labels_pred = []\n",
        "\n",
        "with torch.no_grad():\n",
        "    for img, img_name, label in test_dataloader:\n",
        "        original_images = img.to(device)\n",
        "        reconstructed_images = model_2nd_prep(original_images)\n",
        "\n",
        "        for i in range(len(original_images)):\n",
        "            mse = mse_impl(original_images[i], reconstructed_images[i])\n",
        "\n",
        "            if (mse > mse_anomaly and mse < mse_remove):\n",
        "                label_pred = 1\n",
        "            else:\n",
        "                label_pred = 0\n",
        "\n",
        "\n",
        "            labels_tar.append(label[i])\n",
        "            labels_pred.append(label_pred)"
      ],
      "metadata": {
        "id": "JB1AwJ6OOanM"
      },
      "execution_count": 70,
      "outputs": []
    },
    {
      "cell_type": "code",
      "source": [
        "labels_tar = torch.tensor(labels_tar)\n",
        "labels_pred = torch.tensor(labels_pred)\n",
        "\n",
        "TP = torch.sum((labels_pred == 1) & (labels_tar == 1)).item()\n",
        "TN = torch.sum((labels_pred == 0) & (labels_tar == 0)).item()\n",
        "FP = torch.sum((labels_pred == 1) & (labels_tar == 0)).item()\n",
        "FN = torch.sum((labels_pred == 0) & (labels_tar == 1)).item()\n",
        "\n",
        "TPR = TP / (TP + FN)\n",
        "TNR = TN / (TN + FP)\n",
        "\n",
        "print(\"True Positive Rate (TPR):\", TPR)\n",
        "print(\"True Negative Rate (TNR):\", TNR)"
      ],
      "metadata": {
        "colab": {
          "base_uri": "https://localhost:8080/"
        },
        "id": "ZZWVt828Se60",
        "outputId": "bda0f7f3-8765-41bb-e787-8b47ea050a38"
      },
      "execution_count": 80,
      "outputs": [
        {
          "output_type": "stream",
          "name": "stdout",
          "text": [
            "True Positive Rate (TPR): 0.9213934804898576\n",
            "True Negative Rate (TNR): 0.9115961800818554\n"
          ]
        }
      ]
    },
    {
      "cell_type": "code",
      "source": [],
      "metadata": {
        "id": "e75WllA0XcDf"
      },
      "execution_count": null,
      "outputs": []
    }
  ]
}